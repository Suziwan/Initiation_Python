{
 "cells": [
  {
   "cell_type": "markdown",
   "id": "8ee4c931",
   "metadata": {},
   "source": [
    "### 1. Strings"
   ]
  },
  {
   "cell_type": "code",
   "execution_count": 1,
   "id": "3406619a",
   "metadata": {},
   "outputs": [
    {
     "name": "stdout",
     "output_type": "stream",
     "text": [
      "hello world !\n",
      "h\n",
      "!\n",
      "el\n",
      "lo world !\n"
     ]
    },
    {
     "data": {
      "text/plain": [
       "True"
      ]
     },
     "execution_count": 1,
     "metadata": {},
     "output_type": "execute_result"
    }
   ],
   "source": [
    "# créer et afficher la variable bonjour qui contient une chaîne de caractères 'hello world !'\n",
    "bonjour = 'hello world !'\n",
    "print(bonjour)\n",
    "\n",
    "# afficher le premier caractère de bonjour\n",
    "print(bonjour[0])\n",
    "\n",
    "# afficher le dernier caractère de bonjour\n",
    "print(bonjour[-1])\n",
    "\n",
    "# afficher les caractères de bonjour de la position 1 à la position 3\n",
    "print(bonjour[1:3])\n",
    "\n",
    "# afficher les caractères de bonjour de la position 3 jusqu'à la fin\n",
    "print(bonjour[3:])\n",
    "\n",
    "# vérifier que bonjour commence par hel\n",
    "bonjour.startswith('hel')"
   ]
  },
  {
   "cell_type": "markdown",
   "id": "385e400d",
   "metadata": {},
   "source": [
    "### 2. Functions"
   ]
  },
  {
   "cell_type": "code",
   "execution_count": 2,
   "id": "7b80cf13",
   "metadata": {},
   "outputs": [
    {
     "name": "stdout",
     "output_type": "stream",
     "text": [
      "Hello you !\n",
      "What is your name? >Suzanne\n",
      "Hello Suzanne !\n"
     ]
    }
   ],
   "source": [
    "# créer une fonction qui prend en paramètre une variable intitulée name et qui affiche 'Hello' suivi du prénom choisi\n",
    "def hello(name):\n",
    "    print('Hello', name, '!')\n",
    "\n",
    "hello('you')\n",
    "\n",
    "# écrire un programme qui demande à l'utilisateur son prénom et lui retourne un message lui disant 'Hello'\n",
    "# suivi de son prénom\n",
    "first_name = input('What is your name? >')\n",
    "print('Hello', first_name, '!')"
   ]
  },
  {
   "cell_type": "markdown",
   "id": "9166b38b",
   "metadata": {},
   "source": [
    "### 3. Conditions"
   ]
  },
  {
   "cell_type": "code",
   "execution_count": 3,
   "id": "ed24d8a0",
   "metadata": {},
   "outputs": [
    {
     "name": "stdout",
     "output_type": "stream",
     "text": [
      "Quel âge avez-vous? >30\n",
      "vous êtes majeur !\n",
      "Entrez un nombre entier >6\n",
      "a est pair\n"
     ]
    }
   ],
   "source": [
    "# écrire un programme qui demande à l'utilisateur de saisir son âge et affiche 'vous êtes majeur !' \n",
    "# si l'âge est supérieur ou égal à 18 et 'vous êtes mineur' sinon\n",
    "age = input('Quel âge avez-vous? >')\n",
    "\n",
    "if int(age) >= 18:\n",
    "    print('vous êtes majeur !')\n",
    "else:\n",
    "    print('vous êtes mineur')\n",
    "\n",
    "# écrire un programme qui demande à l'utilisateur de saisir un nombre et affiche 'a est pair' \n",
    "# si la valeur de a est paire et 'a est impair' sinon\n",
    "number = input('Entrez un nombre entier >')\n",
    "\n",
    "if int(number)%2 == 0:\n",
    "    print('a est pair')\n",
    "else:\n",
    "    print('a est impair')"
   ]
  },
  {
   "cell_type": "markdown",
   "id": "4b623f36",
   "metadata": {},
   "source": [
    "### 4. Multiples of 3 and 5"
   ]
  },
  {
   "cell_type": "code",
   "execution_count": 4,
   "id": "83558966",
   "metadata": {},
   "outputs": [
    {
     "name": "stdout",
     "output_type": "stream",
     "text": [
      "233168\n"
     ]
    }
   ],
   "source": [
    "# Trouve la somme des entiers naturels strictement inférieurs à 1000 et qui sont multiples de 3 ou 5.\n",
    "total = 0\n",
    "\n",
    "for i in range(0, 1000, 1):\n",
    "    if (i%3 == 0) or (i%5 == 0):\n",
    "        total += i\n",
    "    else:\n",
    "        continue\n",
    "\n",
    "print(total)"
   ]
  },
  {
   "cell_type": "markdown",
   "id": "dd682342",
   "metadata": {},
   "source": [
    "### 5. Cryptography"
   ]
  },
  {
   "cell_type": "code",
   "execution_count": 5,
   "id": "bee12813",
   "metadata": {},
   "outputs": [
    {
     "name": "stdout",
     "output_type": "stream",
     "text": [
      "bmfy f xywnsl!\n"
     ]
    }
   ],
   "source": [
    "# créer une fonction caesar_cipher qui prend en paramètres un string et une clé de chiffrement \n",
    "# (nombre de lettres à décaler) pour en sortir le string modifié.\n",
    "\n",
    "alphabet = ['a', 'b', 'c', 'd', 'e', 'f', 'g', 'h', 'i', 'j', 'k', 'l', 'm', 'n', 'o', 'p', 'q', 'r', 's', 't', 'u', 'v', 'w', 'x', 'y', 'z', 'a', 'b', 'c', 'd', 'e', 'f', 'g', 'h', 'i', 'j', 'k', 'l', 'm', 'n', 'o', 'p', 'q', 'r', 's', 't', 'u', 'v', 'w', 'x', 'y', 'z']\n",
    "\n",
    "def caesar_cipher(message, key):\n",
    "    message = message.lower()\n",
    "    encrypted_message = ''\n",
    "    for letter in message:\n",
    "        if letter not in alphabet:\n",
    "            encrypted_message += letter\n",
    "        if letter in alphabet:\n",
    "            position = alphabet.index(letter)\n",
    "            new_position = position + key\n",
    "            encrypted_message += alphabet[new_position]\n",
    "    print(encrypted_message)\n",
    "    \n",
    "caesar_cipher('What a string!', 5)"
   ]
  },
  {
   "cell_type": "markdown",
   "id": "f8299544",
   "metadata": {},
   "source": [
    "### 6. Trader"
   ]
  },
  {
   "cell_type": "code",
   "execution_count": 6,
   "id": "054080da",
   "metadata": {},
   "outputs": [
    {
     "name": "stdout",
     "output_type": "stream",
     "text": [
      "The best day to buy is day 1, to sell on day 4 for a total price of $12.\n"
     ]
    }
   ],
   "source": [
    "# coder un programme qui permet, à partir d'une liste de prix, de connaître le meilleur jour d'achat \n",
    "# et le meilleur jour de revente pour faire le maximum de bénéfices.\n",
    "\n",
    "def day_trader(list_prices):\n",
    "    max_price = 0\n",
    "    for buy_day in range(0, len(list_prices)):\n",
    "        for sell_day in range(buy_day+1, len(list_prices)):\n",
    "            price = list_prices[sell_day] - list_prices[buy_day]\n",
    "            if price > max_price:\n",
    "                max_price = price\n",
    "                best_buy_day = buy_day\n",
    "                best_sell_day = sell_day\n",
    "    print('The best day to buy is day ' + str(best_buy_day) + ', to sell on day ' + str(best_sell_day) + \n",
    "          ' for a total price of $' + str(max_price) +'.')\n",
    "        \n",
    "day_trader([17, 3, 6, 9, 15, 8, 6, 1, 10])"
   ]
  },
  {
   "cell_type": "markdown",
   "id": "b7762387",
   "metadata": {},
   "source": [
    "### 7. Word counter"
   ]
  },
  {
   "cell_type": "code",
   "execution_count": 7,
   "id": "3f7647ba",
   "metadata": {},
   "outputs": [
    {
     "name": "stdout",
     "output_type": "stream",
     "text": [
      "{'below': 1, 'low': 1}\n",
      "{'down': 1, 'go': 1, 'going': 1, 'how': 1, 'howdy': 1, 'it': 1, 'i': 1, 'own': 1, 'part': 1, 'partner': 1, 'sit': 1}\n"
     ]
    }
   ],
   "source": [
    "# Écris une fonction intitulée word_counter qui prend en paramètres 2 éléments :\n",
    "# - le corpus, string dans lequel tu devras checker le nombre d'occurrences de différents strings\n",
    "# - la référence, une liste de mots (strings) qui seront recherchés dans le corpus \n",
    "# La fonction devra renvoyer le nombre d'occurrences de chaque mot de la référence dans le corpus sous la forme \n",
    "# d'un dictionnaire. \n",
    "\n",
    "def word_counter(corpus, word_list):\n",
    "    dictionary = {}\n",
    "    occurrence = 0\n",
    "    for word in word_list:\n",
    "        if corpus.lower().find(word) >= 0:\n",
    "            occurrence = 1\n",
    "            dictionary[word] = occurrence\n",
    "    print(dictionary)\n",
    "    \n",
    "reference = [\"below\", \"down\", \"go\", \"going\", \"horn\", \"how\", \"howdy\", \"it\", \"i\", \"low\", \"own\", \"part\", \"partner\", \"sit\"]\n",
    "\n",
    "word_counter(\"below\", reference)\n",
    "# => {\"below\" : 1, \"low\" : 1}\n",
    "\n",
    "word_counter(\"Howdy partner, sit down! How's it going?\", reference)\n",
    "# => {\"down\" : 1, \"go\" : 1, \"going\" : 1, \"how\" : 2, \"howdy\" : 1, \"it\" : 2, \"i\" : 3, \"own\" : 1, \"part\" : 1, \n",
    "# \"partner\" : 1, \"sit\" : 1}"
   ]
  },
  {
   "cell_type": "code",
   "execution_count": null,
   "id": "fb01750f",
   "metadata": {},
   "outputs": [],
   "source": []
  }
 ],
 "metadata": {
  "kernelspec": {
   "display_name": "Python 3 (ipykernel)",
   "language": "python",
   "name": "python3"
  },
  "language_info": {
   "codemirror_mode": {
    "name": "ipython",
    "version": 3
   },
   "file_extension": ".py",
   "mimetype": "text/x-python",
   "name": "python",
   "nbconvert_exporter": "python",
   "pygments_lexer": "ipython3",
   "version": "3.10.9"
  }
 },
 "nbformat": 4,
 "nbformat_minor": 5
}
